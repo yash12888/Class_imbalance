{
 "cells": [
  {
   "cell_type": "markdown",
   "id": "ffc9b9e7-5f56-43ab-94ac-1ae4b9377085",
   "metadata": {},
   "source": [
    "### Experiments"
   ]
  },
  {
   "cell_type": "code",
   "execution_count": 157,
   "id": "339d3b0f-0300-4afa-a7df-5e8601c0a360",
   "metadata": {},
   "outputs": [],
   "source": [
    "import numpy as np\n",
    "import pandas as pd\n",
    "import matplotlib.pyplot as plt\n",
    "import seaborn as sns\n",
    "from sklearn.preprocessing import MinMaxScaler, LabelEncoder\n",
    "from sklearn.model_selection import train_test_split, GridSearchCV\n",
    "from sklearn.metrics import confusion_matrix, roc_auc_score, accuracy_score, precision_score, recall_score, f1_score\n",
    "import warnings\n",
    "warnings.filterwarnings('ignore')\n",
    "sns.set_style('darkgrid')"
   ]
  },
  {
   "cell_type": "code",
   "execution_count": 158,
   "id": "09f29815-7cfd-4955-8374-4f5b98566599",
   "metadata": {},
   "outputs": [
    {
     "data": {
      "text/html": [
       "<div>\n",
       "<style scoped>\n",
       "    .dataframe tbody tr th:only-of-type {\n",
       "        vertical-align: middle;\n",
       "    }\n",
       "\n",
       "    .dataframe tbody tr th {\n",
       "        vertical-align: top;\n",
       "    }\n",
       "\n",
       "    .dataframe thead th {\n",
       "        text-align: right;\n",
       "    }\n",
       "</style>\n",
       "<table border=\"1\" class=\"dataframe\">\n",
       "  <thead>\n",
       "    <tr style=\"text-align: right;\">\n",
       "      <th></th>\n",
       "      <th>id</th>\n",
       "      <th>Gender</th>\n",
       "      <th>Age</th>\n",
       "      <th>Driving_License</th>\n",
       "      <th>Region_Code</th>\n",
       "      <th>Previously_Insured</th>\n",
       "      <th>Vehicle_Age</th>\n",
       "      <th>Vehicle_Damage</th>\n",
       "      <th>Annual_Premium</th>\n",
       "      <th>Policy_Sales_Channel</th>\n",
       "      <th>Vintage</th>\n",
       "      <th>Response</th>\n",
       "    </tr>\n",
       "  </thead>\n",
       "  <tbody>\n",
       "    <tr>\n",
       "      <th>0</th>\n",
       "      <td>167647</td>\n",
       "      <td>Male</td>\n",
       "      <td>22</td>\n",
       "      <td>1</td>\n",
       "      <td>7.0</td>\n",
       "      <td>1</td>\n",
       "      <td>&lt; 1 Year</td>\n",
       "      <td>No</td>\n",
       "      <td>2630.0</td>\n",
       "      <td>152.0</td>\n",
       "      <td>16</td>\n",
       "      <td>0</td>\n",
       "    </tr>\n",
       "    <tr>\n",
       "      <th>1</th>\n",
       "      <td>17163</td>\n",
       "      <td>Male</td>\n",
       "      <td>42</td>\n",
       "      <td>1</td>\n",
       "      <td>28.0</td>\n",
       "      <td>0</td>\n",
       "      <td>1-2 Year</td>\n",
       "      <td>Yes</td>\n",
       "      <td>43327.0</td>\n",
       "      <td>26.0</td>\n",
       "      <td>135</td>\n",
       "      <td>0</td>\n",
       "    </tr>\n",
       "    <tr>\n",
       "      <th>2</th>\n",
       "      <td>32023</td>\n",
       "      <td>Female</td>\n",
       "      <td>66</td>\n",
       "      <td>1</td>\n",
       "      <td>33.0</td>\n",
       "      <td>0</td>\n",
       "      <td>1-2 Year</td>\n",
       "      <td>Yes</td>\n",
       "      <td>35841.0</td>\n",
       "      <td>124.0</td>\n",
       "      <td>253</td>\n",
       "      <td>0</td>\n",
       "    </tr>\n",
       "    <tr>\n",
       "      <th>3</th>\n",
       "      <td>87447</td>\n",
       "      <td>Female</td>\n",
       "      <td>22</td>\n",
       "      <td>1</td>\n",
       "      <td>33.0</td>\n",
       "      <td>0</td>\n",
       "      <td>&lt; 1 Year</td>\n",
       "      <td>No</td>\n",
       "      <td>27645.0</td>\n",
       "      <td>152.0</td>\n",
       "      <td>69</td>\n",
       "      <td>0</td>\n",
       "    </tr>\n",
       "    <tr>\n",
       "      <th>4</th>\n",
       "      <td>501933</td>\n",
       "      <td>Male</td>\n",
       "      <td>28</td>\n",
       "      <td>1</td>\n",
       "      <td>46.0</td>\n",
       "      <td>1</td>\n",
       "      <td>&lt; 1 Year</td>\n",
       "      <td>No</td>\n",
       "      <td>29023.0</td>\n",
       "      <td>152.0</td>\n",
       "      <td>211</td>\n",
       "      <td>0</td>\n",
       "    </tr>\n",
       "    <tr>\n",
       "      <th>...</th>\n",
       "      <td>...</td>\n",
       "      <td>...</td>\n",
       "      <td>...</td>\n",
       "      <td>...</td>\n",
       "      <td>...</td>\n",
       "      <td>...</td>\n",
       "      <td>...</td>\n",
       "      <td>...</td>\n",
       "      <td>...</td>\n",
       "      <td>...</td>\n",
       "      <td>...</td>\n",
       "      <td>...</td>\n",
       "    </tr>\n",
       "    <tr>\n",
       "      <th>382149</th>\n",
       "      <td>164549</td>\n",
       "      <td>Male</td>\n",
       "      <td>24</td>\n",
       "      <td>1</td>\n",
       "      <td>15.0</td>\n",
       "      <td>0</td>\n",
       "      <td>&lt; 1 Year</td>\n",
       "      <td>Yes</td>\n",
       "      <td>23938.0</td>\n",
       "      <td>152.0</td>\n",
       "      <td>105</td>\n",
       "      <td>0</td>\n",
       "    </tr>\n",
       "    <tr>\n",
       "      <th>382150</th>\n",
       "      <td>247064</td>\n",
       "      <td>Male</td>\n",
       "      <td>27</td>\n",
       "      <td>1</td>\n",
       "      <td>28.0</td>\n",
       "      <td>1</td>\n",
       "      <td>&lt; 1 Year</td>\n",
       "      <td>No</td>\n",
       "      <td>336395.0</td>\n",
       "      <td>152.0</td>\n",
       "      <td>144</td>\n",
       "      <td>0</td>\n",
       "    </tr>\n",
       "    <tr>\n",
       "      <th>382151</th>\n",
       "      <td>165293</td>\n",
       "      <td>Male</td>\n",
       "      <td>45</td>\n",
       "      <td>1</td>\n",
       "      <td>28.0</td>\n",
       "      <td>0</td>\n",
       "      <td>1-2 Year</td>\n",
       "      <td>Yes</td>\n",
       "      <td>40443.0</td>\n",
       "      <td>26.0</td>\n",
       "      <td>187</td>\n",
       "      <td>0</td>\n",
       "    </tr>\n",
       "    <tr>\n",
       "      <th>382152</th>\n",
       "      <td>383241</td>\n",
       "      <td>Female</td>\n",
       "      <td>28</td>\n",
       "      <td>1</td>\n",
       "      <td>28.0</td>\n",
       "      <td>1</td>\n",
       "      <td>&lt; 1 Year</td>\n",
       "      <td>No</td>\n",
       "      <td>25380.0</td>\n",
       "      <td>152.0</td>\n",
       "      <td>208</td>\n",
       "      <td>0</td>\n",
       "    </tr>\n",
       "    <tr>\n",
       "      <th>382153</th>\n",
       "      <td>401019</td>\n",
       "      <td>Female</td>\n",
       "      <td>29</td>\n",
       "      <td>1</td>\n",
       "      <td>18.0</td>\n",
       "      <td>1</td>\n",
       "      <td>&lt; 1 Year</td>\n",
       "      <td>No</td>\n",
       "      <td>30396.0</td>\n",
       "      <td>152.0</td>\n",
       "      <td>104</td>\n",
       "      <td>0</td>\n",
       "    </tr>\n",
       "  </tbody>\n",
       "</table>\n",
       "<p>382154 rows × 12 columns</p>\n",
       "</div>"
      ],
      "text/plain": [
       "            id  Gender  Age  Driving_License  Region_Code  Previously_Insured  \\\n",
       "0       167647    Male   22                1          7.0                   1   \n",
       "1        17163    Male   42                1         28.0                   0   \n",
       "2        32023  Female   66                1         33.0                   0   \n",
       "3        87447  Female   22                1         33.0                   0   \n",
       "4       501933    Male   28                1         46.0                   1   \n",
       "...        ...     ...  ...              ...          ...                 ...   \n",
       "382149  164549    Male   24                1         15.0                   0   \n",
       "382150  247064    Male   27                1         28.0                   1   \n",
       "382151  165293    Male   45                1         28.0                   0   \n",
       "382152  383241  Female   28                1         28.0                   1   \n",
       "382153  401019  Female   29                1         18.0                   1   \n",
       "\n",
       "       Vehicle_Age Vehicle_Damage  Annual_Premium  Policy_Sales_Channel  \\\n",
       "0         < 1 Year             No          2630.0                 152.0   \n",
       "1         1-2 Year            Yes         43327.0                  26.0   \n",
       "2         1-2 Year            Yes         35841.0                 124.0   \n",
       "3         < 1 Year             No         27645.0                 152.0   \n",
       "4         < 1 Year             No         29023.0                 152.0   \n",
       "...            ...            ...             ...                   ...   \n",
       "382149    < 1 Year            Yes         23938.0                 152.0   \n",
       "382150    < 1 Year             No        336395.0                 152.0   \n",
       "382151    1-2 Year            Yes         40443.0                  26.0   \n",
       "382152    < 1 Year             No         25380.0                 152.0   \n",
       "382153    < 1 Year             No         30396.0                 152.0   \n",
       "\n",
       "        Vintage  Response  \n",
       "0            16         0  \n",
       "1           135         0  \n",
       "2           253         0  \n",
       "3            69         0  \n",
       "4           211         0  \n",
       "...         ...       ...  \n",
       "382149      105         0  \n",
       "382150      144         0  \n",
       "382151      187         0  \n",
       "382152      208         0  \n",
       "382153      104         0  \n",
       "\n",
       "[382154 rows x 12 columns]"
      ]
     },
     "execution_count": 158,
     "metadata": {},
     "output_type": "execute_result"
    }
   ],
   "source": [
    "df=pd.read_csv('aug_train.csv')\n",
    "df"
   ]
  },
  {
   "cell_type": "code",
   "execution_count": 159,
   "id": "90bbd753-7834-4c9c-9385-2ae1dc3822bf",
   "metadata": {},
   "outputs": [],
   "source": [
    "df=df[:25000]"
   ]
  },
  {
   "cell_type": "code",
   "execution_count": 160,
   "id": "7076f452-8c83-4e8a-8765-b5e8ac0e561a",
   "metadata": {},
   "outputs": [
    {
     "data": {
      "text/html": [
       "<div>\n",
       "<style scoped>\n",
       "    .dataframe tbody tr th:only-of-type {\n",
       "        vertical-align: middle;\n",
       "    }\n",
       "\n",
       "    .dataframe tbody tr th {\n",
       "        vertical-align: top;\n",
       "    }\n",
       "\n",
       "    .dataframe thead th {\n",
       "        text-align: right;\n",
       "    }\n",
       "</style>\n",
       "<table border=\"1\" class=\"dataframe\">\n",
       "  <thead>\n",
       "    <tr style=\"text-align: right;\">\n",
       "      <th></th>\n",
       "      <th>id</th>\n",
       "      <th>Gender</th>\n",
       "      <th>Age</th>\n",
       "      <th>Driving_License</th>\n",
       "      <th>Region_Code</th>\n",
       "      <th>Previously_Insured</th>\n",
       "      <th>Vehicle_Age</th>\n",
       "      <th>Vehicle_Damage</th>\n",
       "      <th>Annual_Premium</th>\n",
       "      <th>Policy_Sales_Channel</th>\n",
       "      <th>Vintage</th>\n",
       "      <th>Response</th>\n",
       "    </tr>\n",
       "  </thead>\n",
       "  <tbody>\n",
       "    <tr>\n",
       "      <th>0</th>\n",
       "      <td>167647</td>\n",
       "      <td>Male</td>\n",
       "      <td>22</td>\n",
       "      <td>1</td>\n",
       "      <td>7.0</td>\n",
       "      <td>1</td>\n",
       "      <td>&lt; 1 Year</td>\n",
       "      <td>No</td>\n",
       "      <td>2630.0</td>\n",
       "      <td>152.0</td>\n",
       "      <td>16</td>\n",
       "      <td>0</td>\n",
       "    </tr>\n",
       "    <tr>\n",
       "      <th>1</th>\n",
       "      <td>17163</td>\n",
       "      <td>Male</td>\n",
       "      <td>42</td>\n",
       "      <td>1</td>\n",
       "      <td>28.0</td>\n",
       "      <td>0</td>\n",
       "      <td>1-2 Year</td>\n",
       "      <td>Yes</td>\n",
       "      <td>43327.0</td>\n",
       "      <td>26.0</td>\n",
       "      <td>135</td>\n",
       "      <td>0</td>\n",
       "    </tr>\n",
       "    <tr>\n",
       "      <th>2</th>\n",
       "      <td>32023</td>\n",
       "      <td>Female</td>\n",
       "      <td>66</td>\n",
       "      <td>1</td>\n",
       "      <td>33.0</td>\n",
       "      <td>0</td>\n",
       "      <td>1-2 Year</td>\n",
       "      <td>Yes</td>\n",
       "      <td>35841.0</td>\n",
       "      <td>124.0</td>\n",
       "      <td>253</td>\n",
       "      <td>0</td>\n",
       "    </tr>\n",
       "    <tr>\n",
       "      <th>3</th>\n",
       "      <td>87447</td>\n",
       "      <td>Female</td>\n",
       "      <td>22</td>\n",
       "      <td>1</td>\n",
       "      <td>33.0</td>\n",
       "      <td>0</td>\n",
       "      <td>&lt; 1 Year</td>\n",
       "      <td>No</td>\n",
       "      <td>27645.0</td>\n",
       "      <td>152.0</td>\n",
       "      <td>69</td>\n",
       "      <td>0</td>\n",
       "    </tr>\n",
       "    <tr>\n",
       "      <th>4</th>\n",
       "      <td>501933</td>\n",
       "      <td>Male</td>\n",
       "      <td>28</td>\n",
       "      <td>1</td>\n",
       "      <td>46.0</td>\n",
       "      <td>1</td>\n",
       "      <td>&lt; 1 Year</td>\n",
       "      <td>No</td>\n",
       "      <td>29023.0</td>\n",
       "      <td>152.0</td>\n",
       "      <td>211</td>\n",
       "      <td>0</td>\n",
       "    </tr>\n",
       "    <tr>\n",
       "      <th>...</th>\n",
       "      <td>...</td>\n",
       "      <td>...</td>\n",
       "      <td>...</td>\n",
       "      <td>...</td>\n",
       "      <td>...</td>\n",
       "      <td>...</td>\n",
       "      <td>...</td>\n",
       "      <td>...</td>\n",
       "      <td>...</td>\n",
       "      <td>...</td>\n",
       "      <td>...</td>\n",
       "      <td>...</td>\n",
       "    </tr>\n",
       "    <tr>\n",
       "      <th>24995</th>\n",
       "      <td>419804</td>\n",
       "      <td>Male</td>\n",
       "      <td>25</td>\n",
       "      <td>1</td>\n",
       "      <td>15.0</td>\n",
       "      <td>1</td>\n",
       "      <td>&lt; 1 Year</td>\n",
       "      <td>No</td>\n",
       "      <td>30389.0</td>\n",
       "      <td>152.0</td>\n",
       "      <td>172</td>\n",
       "      <td>0</td>\n",
       "    </tr>\n",
       "    <tr>\n",
       "      <th>24996</th>\n",
       "      <td>322697</td>\n",
       "      <td>Male</td>\n",
       "      <td>74</td>\n",
       "      <td>1</td>\n",
       "      <td>28.0</td>\n",
       "      <td>1</td>\n",
       "      <td>1-2 Year</td>\n",
       "      <td>No</td>\n",
       "      <td>48849.0</td>\n",
       "      <td>122.0</td>\n",
       "      <td>188</td>\n",
       "      <td>0</td>\n",
       "    </tr>\n",
       "    <tr>\n",
       "      <th>24997</th>\n",
       "      <td>330176</td>\n",
       "      <td>Female</td>\n",
       "      <td>41</td>\n",
       "      <td>1</td>\n",
       "      <td>28.0</td>\n",
       "      <td>0</td>\n",
       "      <td>1-2 Year</td>\n",
       "      <td>Yes</td>\n",
       "      <td>38198.0</td>\n",
       "      <td>26.0</td>\n",
       "      <td>277</td>\n",
       "      <td>1</td>\n",
       "    </tr>\n",
       "    <tr>\n",
       "      <th>24998</th>\n",
       "      <td>479848</td>\n",
       "      <td>Female</td>\n",
       "      <td>37</td>\n",
       "      <td>1</td>\n",
       "      <td>28.0</td>\n",
       "      <td>0</td>\n",
       "      <td>1-2 Year</td>\n",
       "      <td>Yes</td>\n",
       "      <td>38501.0</td>\n",
       "      <td>122.0</td>\n",
       "      <td>26</td>\n",
       "      <td>1</td>\n",
       "    </tr>\n",
       "    <tr>\n",
       "      <th>24999</th>\n",
       "      <td>430418</td>\n",
       "      <td>Male</td>\n",
       "      <td>33</td>\n",
       "      <td>1</td>\n",
       "      <td>28.0</td>\n",
       "      <td>0</td>\n",
       "      <td>1-2 Year</td>\n",
       "      <td>Yes</td>\n",
       "      <td>26244.0</td>\n",
       "      <td>122.0</td>\n",
       "      <td>160</td>\n",
       "      <td>1</td>\n",
       "    </tr>\n",
       "  </tbody>\n",
       "</table>\n",
       "<p>25000 rows × 12 columns</p>\n",
       "</div>"
      ],
      "text/plain": [
       "           id  Gender  Age  Driving_License  Region_Code  Previously_Insured  \\\n",
       "0      167647    Male   22                1          7.0                   1   \n",
       "1       17163    Male   42                1         28.0                   0   \n",
       "2       32023  Female   66                1         33.0                   0   \n",
       "3       87447  Female   22                1         33.0                   0   \n",
       "4      501933    Male   28                1         46.0                   1   \n",
       "...       ...     ...  ...              ...          ...                 ...   \n",
       "24995  419804    Male   25                1         15.0                   1   \n",
       "24996  322697    Male   74                1         28.0                   1   \n",
       "24997  330176  Female   41                1         28.0                   0   \n",
       "24998  479848  Female   37                1         28.0                   0   \n",
       "24999  430418    Male   33                1         28.0                   0   \n",
       "\n",
       "      Vehicle_Age Vehicle_Damage  Annual_Premium  Policy_Sales_Channel  \\\n",
       "0        < 1 Year             No          2630.0                 152.0   \n",
       "1        1-2 Year            Yes         43327.0                  26.0   \n",
       "2        1-2 Year            Yes         35841.0                 124.0   \n",
       "3        < 1 Year             No         27645.0                 152.0   \n",
       "4        < 1 Year             No         29023.0                 152.0   \n",
       "...           ...            ...             ...                   ...   \n",
       "24995    < 1 Year             No         30389.0                 152.0   \n",
       "24996    1-2 Year             No         48849.0                 122.0   \n",
       "24997    1-2 Year            Yes         38198.0                  26.0   \n",
       "24998    1-2 Year            Yes         38501.0                 122.0   \n",
       "24999    1-2 Year            Yes         26244.0                 122.0   \n",
       "\n",
       "       Vintage  Response  \n",
       "0           16         0  \n",
       "1          135         0  \n",
       "2          253         0  \n",
       "3           69         0  \n",
       "4          211         0  \n",
       "...        ...       ...  \n",
       "24995      172         0  \n",
       "24996      188         0  \n",
       "24997      277         1  \n",
       "24998       26         1  \n",
       "24999      160         1  \n",
       "\n",
       "[25000 rows x 12 columns]"
      ]
     },
     "execution_count": 160,
     "metadata": {},
     "output_type": "execute_result"
    }
   ],
   "source": [
    "df"
   ]
  },
  {
   "cell_type": "code",
   "execution_count": 161,
   "id": "8d950b3a-cadb-4935-9a6c-dd654b08aa1f",
   "metadata": {},
   "outputs": [
    {
     "data": {
      "text/plain": [
       "0    20914\n",
       "1     4086\n",
       "Name: Response, dtype: int64"
      ]
     },
     "execution_count": 161,
     "metadata": {},
     "output_type": "execute_result"
    }
   ],
   "source": [
    "df['Response'].value_counts()"
   ]
  },
  {
   "cell_type": "code",
   "execution_count": 162,
   "id": "93bb0e03-cfc4-4696-9433-87610231f79a",
   "metadata": {},
   "outputs": [
    {
     "data": {
      "text/plain": [
       "<AxesSubplot:ylabel='Response'>"
      ]
     },
     "execution_count": 162,
     "metadata": {},
     "output_type": "execute_result"
    },
    {
     "data": {
      "image/png": "[encoded data removed]",
      "text/plain": [
       "<Figure size 432x288 with 1 Axes>"
      ]
     },
     "metadata": {},
     "output_type": "display_data"
    }
   ],
   "source": [
    "df['Response'].value_counts().plot(kind='pie',autopct='%1.1f%%')"
   ]
  },
  {
   "cell_type": "code",
   "execution_count": 163,
   "id": "560af0a9-e99b-4def-80bf-3d5853ed8cba",
   "metadata": {},
   "outputs": [],
   "source": [
    "df=df.drop(columns='id',axis=1)"
   ]
  },
  {
   "cell_type": "code",
   "execution_count": 164,
   "id": "9d242d40-1d65-4b4d-ba78-fd931eb8d0ea",
   "metadata": {},
   "outputs": [],
   "source": [
    "X=df.drop(columns='Response',axis=1)\n",
    "y=df.Response"
   ]
  },
  {
   "cell_type": "code",
   "execution_count": 165,
   "id": "05794950-c83b-4a36-9107-8153b0e9a61a",
   "metadata": {},
   "outputs": [
    {
     "name": "stdout",
     "output_type": "stream",
     "text": [
      "(18750, 14)\n",
      "(6250, 14)\n",
      "(18750,)\n",
      "(6250,)\n"
     ]
    }
   ],
   "source": [
    "X_num=X.select_dtypes(include='number')\n",
    "X_cat=X.select_dtypes(include='object')\n",
    "\n",
    "ss=MinMaxScaler()\n",
    "X_num_scaled=ss.fit_transform(X_num)\n",
    "X_num_scaled=pd.DataFrame(X_num_scaled,columns=X_num.columns,index=X_num.index)\n",
    "\n",
    "X_cat_encoded=pd.get_dummies(X_cat,drop_first=False,dtype=int)\n",
    "\n",
    "X=pd.concat([X_num_scaled,X_cat_encoded],axis=1)\n",
    "\n",
    "X_train,X_test,y_train,y_test=train_test_split(X,y,test_size=0.25,random_state=0)\n",
    "\n",
    "print(X_train.shape)\n",
    "print(X_test.shape)\n",
    "print(y_train.shape)\n",
    "print(y_test.shape)"
   ]
  },
  {
   "cell_type": "markdown",
   "id": "e1d7b330-7151-4344-8eec-82b15637f1f1",
   "metadata": {},
   "source": [
    "### Resampling after train_test"
   ]
  },
  {
   "cell_type": "markdown",
   "id": "c305351f-78ee-4d0a-93c0-da4907fea518",
   "metadata": {},
   "source": [
    "### Impact of Imbalance"
   ]
  },
  {
   "cell_type": "code",
   "execution_count": 166,
   "id": "eaed8dfc-42d9-44ff-9df7-13b6d7a5d4da",
   "metadata": {},
   "outputs": [
    {
     "data": {
      "text/plain": [
       "<AxesSubplot:ylabel='Response'>"
      ]
     },
     "execution_count": 166,
     "metadata": {},
     "output_type": "execute_result"
    },
    {
     "data": {
      "image/png": "[encoded data removed]",
      "text/plain": [
       "<Figure size 432x288 with 1 Axes>"
      ]
     },
     "metadata": {},
     "output_type": "display_data"
    }
   ],
   "source": [
    "y_train.value_counts().plot(kind='pie',autopct='%1.1f%%',explode=[0,0.1])"
   ]
  },
  {
   "cell_type": "markdown",
   "id": "90b45a9f-4e89-4199-a28d-9aba364254aa",
   "metadata": {},
   "source": [
    "## Experiment 1"
   ]
  },
  {
   "cell_type": "markdown",
   "id": "21b1d8f1-9097-43a0-b02a-c9eefd459360",
   "metadata": {},
   "source": [
    "#### Objective: This experiment aims to find the effect of Imbalanced dataset on evaluation metrics."
   ]
  },
  {
   "cell_type": "markdown",
   "id": "13a24545-21b5-4702-b86f-8bcac9de5427",
   "metadata": {},
   "source": [
    "#### When a dataset is imbalanced, it is tend to cause issues within bias and variance. Bias may lead to low recall, variance may lead to low precision. To address these issues we will try and fit a model on our imbalanced dataset"
   ]
  },
  {
   "cell_type": "markdown",
   "id": "90fdbb66-1c07-4805-b6cb-e6f2378ca1b7",
   "metadata": {},
   "source": [
    "#### Herein we will train model on tree-based ensemble algorithms vs classic ML algorithms like KNN, Logistic "
   ]
  },
  {
   "cell_type": "markdown",
   "id": "a46002f0-5434-4453-962d-2892f92d933b",
   "metadata": {},
   "source": [
    "#### Scoring would be F1 because keeping it particularly Precision or Recall would be unfair with minority/majority class hence we go for F1 which will punish both of them equally"
   ]
  },
  {
   "cell_type": "markdown",
   "id": "b6c883e9-6d03-49b1-9901-aa48d51eb132",
   "metadata": {},
   "source": [
    "#### Random Forest Classifier"
   ]
  },
  {
   "cell_type": "code",
   "execution_count": 167,
   "id": "1809570b-4a9a-4a06-8f13-5aef98552dcc",
   "metadata": {},
   "outputs": [],
   "source": [
    "from sklearn.ensemble import RandomForestClassifier"
   ]
  },
  {
   "cell_type": "code",
   "execution_count": 168,
   "id": "a49d2e13-9f89-428e-8868-58feecc5a8fd",
   "metadata": {},
   "outputs": [],
   "source": [
    "forest_params = [{'max_depth': list(range(2, 10))}]"
   ]
  },
  {
   "cell_type": "code",
   "execution_count": 169,
   "id": "5b770dd9-2b7f-4be0-8a58-ebf1cf569f7d",
   "metadata": {},
   "outputs": [],
   "source": [
    "rf=RandomForestClassifier()"
   ]
  },
  {
   "cell_type": "code",
   "execution_count": 170,
   "id": "d9041af7-59dc-4ed4-b9a4-4aa1b0703a8a",
   "metadata": {},
   "outputs": [],
   "source": [
    "clf=GridSearchCV(rf,forest_params,scoring='f1')"
   ]
  },
  {
   "cell_type": "code",
   "execution_count": 171,
   "id": "7b3642c8-33ec-4c85-a0eb-10da8f8bd898",
   "metadata": {},
   "outputs": [
    {
     "data": {
      "text/plain": [
       "GridSearchCV(estimator=RandomForestClassifier(),\n",
       "             param_grid=[{'max_depth': [2, 3, 4, 5, 6, 7, 8, 9]}],\n",
       "             scoring='f1')"
      ]
     },
     "execution_count": 171,
     "metadata": {},
     "output_type": "execute_result"
    }
   ],
   "source": [
    "clf.fit(X_train,y_train)"
   ]
  },
  {
   "cell_type": "code",
   "execution_count": 172,
   "id": "847eb3b3-aa79-49bd-b92d-4e2d4e9225ff",
   "metadata": {},
   "outputs": [
    {
     "name": "stdout",
     "output_type": "stream",
     "text": [
      "{'max_depth': 9}\n"
     ]
    }
   ],
   "source": [
    "print(clf.best_params_)"
   ]
  },
  {
   "cell_type": "code",
   "execution_count": 173,
   "id": "eb403d3a-57cc-478e-82ff-4aa59cfd1036",
   "metadata": {},
   "outputs": [],
   "source": [
    "rfc=RandomForestClassifier(max_depth=9)"
   ]
  },
  {
   "cell_type": "code",
   "execution_count": 174,
   "id": "344d063f-8658-4f73-9b09-0f782c79242d",
   "metadata": {},
   "outputs": [],
   "source": [
    "model_rfc=rfc.fit(X_train,y_train)"
   ]
  },
  {
   "cell_type": "code",
   "execution_count": 175,
   "id": "77a0fae8-18fc-4b92-8aa2-a33cd036e85c",
   "metadata": {},
   "outputs": [],
   "source": [
    "yhat_train=model_rfc.predict(X_train)"
   ]
  },
  {
   "cell_type": "code",
   "execution_count": 176,
   "id": "05824bd4-111e-4a88-b05d-ea3e46793f8c",
   "metadata": {},
   "outputs": [],
   "source": [
    "from sklearn.metrics import classification_report, accuracy_score, precision_score, recall_score, f1_score"
   ]
  },
  {
   "cell_type": "code",
   "execution_count": 177,
   "id": "a31e2146-8c26-4109-9b03-b57a7d536003",
   "metadata": {},
   "outputs": [
    {
     "name": "stdout",
     "output_type": "stream",
     "text": [
      "              precision    recall  f1-score   support\n",
      "\n",
      "           0       0.85      1.00      0.92     15675\n",
      "           1       0.86      0.09      0.17      3075\n",
      "\n",
      "    accuracy                           0.85     18750\n",
      "   macro avg       0.85      0.54      0.54     18750\n",
      "weighted avg       0.85      0.85      0.79     18750\n",
      "\n"
     ]
    }
   ],
   "source": [
    "print(classification_report(y_train,yhat_train))"
   ]
  },
  {
   "cell_type": "markdown",
   "id": "7315e3a5-3878-4a0d-b48e-c7a9ef73882f",
   "metadata": {},
   "source": [
    "### Classification report of test data"
   ]
  },
  {
   "cell_type": "code",
   "execution_count": 178,
   "id": "bf2e0b56-1b88-4c89-b88c-500d966def40",
   "metadata": {},
   "outputs": [],
   "source": [
    "yhat_test=model_rfc.predict(X_test)"
   ]
  },
  {
   "cell_type": "code",
   "execution_count": 179,
   "id": "d03fd3f9-920c-4598-a290-4b71d2f48611",
   "metadata": {},
   "outputs": [
    {
     "name": "stdout",
     "output_type": "stream",
     "text": [
      "              precision    recall  f1-score   support\n",
      "\n",
      "           0       0.85      0.99      0.91      5239\n",
      "           1       0.64      0.06      0.10      1011\n",
      "\n",
      "    accuracy                           0.84      6250\n",
      "   macro avg       0.74      0.53      0.51      6250\n",
      "weighted avg       0.81      0.84      0.78      6250\n",
      "\n"
     ]
    }
   ],
   "source": [
    "print(classification_report(y_test,yhat_test))"
   ]
  },
  {
   "cell_type": "markdown",
   "id": "3e15686a-63e4-42e4-a1d3-197e2a50ccf9",
   "metadata": {},
   "source": [
    "#### As mentioned above, because of the data being imbalanced we are seeing high Bias model i.e., recall score = 0.10.\n",
    "#### We will check the same for Logistic Regression and trynna find whether its giving somewhat same output or different"
   ]
  },
  {
   "cell_type": "code",
   "execution_count": 180,
   "id": "8b31937f-fa88-4a20-8479-4a4c5c21e3d7",
   "metadata": {},
   "outputs": [],
   "source": [
    "from sklearn.linear_model import LogisticRegression"
   ]
  },
  {
   "cell_type": "code",
   "execution_count": 181,
   "id": "de609117-5cc7-4849-897c-f23166b03649",
   "metadata": {},
   "outputs": [],
   "source": [
    "lr=LogisticRegression()"
   ]
  },
  {
   "cell_type": "code",
   "execution_count": 182,
   "id": "9f50e1e7-e1a0-45f4-817b-01184957113d",
   "metadata": {},
   "outputs": [],
   "source": [
    "model_lr=lr.fit(X_train,y_train)"
   ]
  },
  {
   "cell_type": "code",
   "execution_count": 183,
   "id": "acdd7d8a-f133-41ac-a541-6489beaab9f9",
   "metadata": {},
   "outputs": [],
   "source": [
    "yhat_train_lr=model_lr.predict(X_train)"
   ]
  },
  {
   "cell_type": "code",
   "execution_count": 184,
   "id": "8b546ee7-836c-4f8b-82f2-2eac4b793d20",
   "metadata": {},
   "outputs": [
    {
     "name": "stdout",
     "output_type": "stream",
     "text": [
      "              precision    recall  f1-score   support\n",
      "\n",
      "           0       0.85      0.98      0.91     15675\n",
      "           1       0.47      0.11      0.18      3075\n",
      "\n",
      "    accuracy                           0.83     18750\n",
      "   macro avg       0.66      0.54      0.54     18750\n",
      "weighted avg       0.79      0.83      0.79     18750\n",
      "\n"
     ]
    }
   ],
   "source": [
    "print(classification_report(y_train,yhat_train_lr))"
   ]
  },
  {
   "cell_type": "markdown",
   "id": "26eb00fc-fd19-466b-ab12-49b26f693187",
   "metadata": {},
   "source": [
    "### Classification report of test data"
   ]
  },
  {
   "cell_type": "code",
   "execution_count": 185,
   "id": "2a9069f8-4b4c-4e03-adee-112810411098",
   "metadata": {},
   "outputs": [],
   "source": [
    "yhat_test_lr=model_lr.predict(X_test)"
   ]
  },
  {
   "cell_type": "code",
   "execution_count": 186,
   "id": "375db42d-a3b8-4dc7-8675-1e46f85c5f43",
   "metadata": {},
   "outputs": [
    {
     "name": "stdout",
     "output_type": "stream",
     "text": [
      "              precision    recall  f1-score   support\n",
      "\n",
      "           0       0.85      0.98      0.91      5239\n",
      "           1       0.54      0.13      0.21      1011\n",
      "\n",
      "    accuracy                           0.84      6250\n",
      "   macro avg       0.70      0.55      0.56      6250\n",
      "weighted avg       0.80      0.84      0.80      6250\n",
      "\n"
     ]
    }
   ],
   "source": [
    "print(classification_report(y_test,yhat_test_lr))"
   ]
  },
  {
   "cell_type": "markdown",
   "id": "f550c14f-d3ae-4744-ad84-22e101263a98",
   "metadata": {},
   "source": [
    "#### Again we are seeing low recall (High bias) model."
   ]
  },
  {
   "cell_type": "markdown",
   "id": "1edf4bdf-0df4-4746-9bc1-a94987ff7a95",
   "metadata": {},
   "source": [
    "## Experiment 1 can be concluded by stating that Imbalanced data does affect the model performance wherein it punishes only the minority class, leading to Low recall"
   ]
  },
  {
   "cell_type": "markdown",
   "id": "11ce6610-e8d0-49ba-9413-60809bcabc62",
   "metadata": {},
   "source": [
    "## Experiment 2"
   ]
  },
  {
   "cell_type": "markdown",
   "id": "7f3963c1-3556-4d3e-bfbb-ec52ffe5bd4a",
   "metadata": {},
   "source": [
    "### Objective: This experiment aims to find out the indicators of imbalanced dataset. The approach to this experiment will be simply comparing the results of experiment 1 vs the results after using smote on the dataset."
   ]
  },
  {
   "cell_type": "code",
   "execution_count": 187,
   "id": "71240271-ce4c-47b8-ba25-bcc861f9cb35",
   "metadata": {},
   "outputs": [],
   "source": [
    "from imblearn.over_sampling import SMOTE"
   ]
  },
  {
   "cell_type": "code",
   "execution_count": 188,
   "id": "ce1c2b1f-31fb-45d3-a7c1-c7b7044c32cd",
   "metadata": {},
   "outputs": [],
   "source": [
    "sm=SMOTE()"
   ]
  },
  {
   "cell_type": "code",
   "execution_count": 189,
   "id": "755dff97-e17d-49c8-94d0-e4649f8b2091",
   "metadata": {},
   "outputs": [],
   "source": [
    "X_train_res,y_train_res=sm.fit_resample(X_train,y_train)"
   ]
  },
  {
   "cell_type": "code",
   "execution_count": 190,
   "id": "a07a1855-5a36-43a8-8a01-6c3af6a461ea",
   "metadata": {},
   "outputs": [
    {
     "name": "stdout",
     "output_type": "stream",
     "text": [
      "(18750, 14)\n",
      "(31350, 14)\n"
     ]
    }
   ],
   "source": [
    "print(X_train.shape)\n",
    "print(X_train_res.shape)"
   ]
  },
  {
   "cell_type": "code",
   "execution_count": 191,
   "id": "5d907238-1002-4808-9c1a-383f7790406b",
   "metadata": {},
   "outputs": [
    {
     "name": "stdout",
     "output_type": "stream",
     "text": [
      "(18750,)\n",
      "(31350,)\n"
     ]
    }
   ],
   "source": [
    "print(y_train.shape)\n",
    "print(y_train_res.shape)"
   ]
  },
  {
   "cell_type": "code",
   "execution_count": 192,
   "id": "4e310a2a-15f6-4d32-af5b-33d2abc3503a",
   "metadata": {},
   "outputs": [
    {
     "data": {
      "text/plain": [
       "GridSearchCV(estimator=RandomForestClassifier(),\n",
       "             param_grid=[{'max_depth': [2, 3, 4, 5, 6, 7, 8, 9]}],\n",
       "             scoring='f1')"
      ]
     },
     "execution_count": 192,
     "metadata": {},
     "output_type": "execute_result"
    }
   ],
   "source": [
    "clf.fit(X_train_res,y_train_res)"
   ]
  },
  {
   "cell_type": "code",
   "execution_count": 193,
   "id": "5c8e7d79-e78c-448b-9ebd-8c559ee1c8d4",
   "metadata": {},
   "outputs": [
    {
     "name": "stdout",
     "output_type": "stream",
     "text": [
      "{'max_depth': 9}\n"
     ]
    }
   ],
   "source": [
    "print(clf.best_params_)"
   ]
  },
  {
   "cell_type": "markdown",
   "id": "3fade8de-a49c-46a4-add6-f1a4fcdbe4f3",
   "metadata": {},
   "source": [
    "### Random Forest after SMOTE"
   ]
  },
  {
   "cell_type": "code",
   "execution_count": 194,
   "id": "8dfc9a43-09a5-4ea2-b0cb-be3cb6182b82",
   "metadata": {},
   "outputs": [],
   "source": [
    "rfc_res=RandomForestClassifier(max_depth=9)"
   ]
  },
  {
   "cell_type": "code",
   "execution_count": 195,
   "id": "64dcb117-51eb-41e6-acf1-61d6f68438f1",
   "metadata": {},
   "outputs": [],
   "source": [
    "model_res_rfc=rfc_res.fit(X_train_res,y_train_res)"
   ]
  },
  {
   "cell_type": "code",
   "execution_count": 196,
   "id": "23e058cc-211a-4fdc-8ab8-0a47c371df06",
   "metadata": {},
   "outputs": [],
   "source": [
    "yhat_train_rfc_res=model_res_rfc.predict(X_train_res)"
   ]
  },
  {
   "cell_type": "code",
   "execution_count": 197,
   "id": "64a1b787-71f0-488d-8dd2-2ae29aeff7a0",
   "metadata": {},
   "outputs": [
    {
     "name": "stdout",
     "output_type": "stream",
     "text": [
      "              precision    recall  f1-score   support\n",
      "\n",
      "           0       0.97      0.76      0.85     15675\n",
      "           1       0.80      0.97      0.88     15675\n",
      "\n",
      "    accuracy                           0.87     31350\n",
      "   macro avg       0.88      0.87      0.87     31350\n",
      "weighted avg       0.88      0.87      0.87     31350\n",
      "\n"
     ]
    }
   ],
   "source": [
    "print(classification_report(y_train_res,yhat_train_rfc_res))"
   ]
  },
  {
   "cell_type": "code",
   "execution_count": 200,
   "id": "d14dfe1a-8060-427f-86cc-02d1f26b33ea",
   "metadata": {},
   "outputs": [],
   "source": [
    "yhat_test_res_rfc=model_res_rfc.predict(X_test)"
   ]
  },
  {
   "cell_type": "code",
   "execution_count": 202,
   "id": "6b450891-03aa-4589-b9c9-b74b0723f0bd",
   "metadata": {},
   "outputs": [
    {
     "name": "stdout",
     "output_type": "stream",
     "text": [
      "              precision    recall  f1-score   support\n",
      "\n",
      "           0       0.98      0.75      0.85      5239\n",
      "           1       0.41      0.91      0.56      1011\n",
      "\n",
      "    accuracy                           0.77      6250\n",
      "   macro avg       0.69      0.83      0.71      6250\n",
      "weighted avg       0.88      0.77      0.80      6250\n",
      "\n"
     ]
    }
   ],
   "source": [
    "print(classification_report(y_test,yhat_test_res_rfc))"
   ]
  },
  {
   "cell_type": "markdown",
   "id": "32a1c2a6-3f6e-4de2-a24e-4388f3f17777",
   "metadata": {},
   "source": [
    "### Logistic Regression after SMOTE"
   ]
  },
  {
   "cell_type": "code",
   "execution_count": 203,
   "id": "f2058354-f394-4c3d-a6e4-86c12b90b12f",
   "metadata": {},
   "outputs": [],
   "source": [
    "lr_res=LogisticRegression(class_weight='balanced')"
   ]
  },
  {
   "cell_type": "code",
   "execution_count": 204,
   "id": "7bc25a61-2619-484d-9c35-0e5ee2c2f142",
   "metadata": {},
   "outputs": [],
   "source": [
    "model_res_lr=lr_res.fit(X_train_res,y_train_res)"
   ]
  },
  {
   "cell_type": "code",
   "execution_count": 205,
   "id": "76fac21f-0df4-44ff-bc4d-d54d104bfb73",
   "metadata": {},
   "outputs": [],
   "source": [
    "yhat_train_lr_res=model_res_lr.predict(X_train_res)"
   ]
  },
  {
   "cell_type": "code",
   "execution_count": 206,
   "id": "b924d982-30fe-4952-981c-d7f03da96d50",
   "metadata": {},
   "outputs": [
    {
     "name": "stdout",
     "output_type": "stream",
     "text": [
      "              precision    recall  f1-score   support\n",
      "\n",
      "           0       0.95      0.66      0.78     15675\n",
      "           1       0.74      0.97      0.84     15675\n",
      "\n",
      "    accuracy                           0.81     31350\n",
      "   macro avg       0.85      0.81      0.81     31350\n",
      "weighted avg       0.85      0.81      0.81     31350\n",
      "\n"
     ]
    }
   ],
   "source": [
    "print(classification_report(y_train_res,yhat_train_lr_res))"
   ]
  },
  {
   "cell_type": "code",
   "execution_count": 207,
   "id": "4fa56ff5-9a22-4754-abf7-3eeb914bde7f",
   "metadata": {},
   "outputs": [],
   "source": [
    "yhat_test_lr_res=model_res_lr.predict(X_test)"
   ]
  },
  {
   "cell_type": "code",
   "execution_count": 208,
   "id": "ebd18d34-27d5-43b0-bfab-6d53c932b566",
   "metadata": {},
   "outputs": [
    {
     "name": "stdout",
     "output_type": "stream",
     "text": [
      "              precision    recall  f1-score   support\n",
      "\n",
      "           0       0.99      0.65      0.79      5239\n",
      "           1       0.35      0.96      0.51      1011\n",
      "\n",
      "    accuracy                           0.70      6250\n",
      "   macro avg       0.67      0.81      0.65      6250\n",
      "weighted avg       0.89      0.70      0.74      6250\n",
      "\n"
     ]
    }
   ],
   "source": [
    "print(classification_report(y_test,yhat_test_lr_res))"
   ]
  },
  {
   "cell_type": "markdown",
   "id": "2c7ade87-1e4a-4fff-865d-7d2dd4d880ea",
   "metadata": {},
   "source": [
    "### Observation: As seen from both the classification reports, recall has drastically increased for the minority class."
   ]
  },
  {
   "cell_type": "markdown",
   "id": "060a3778-6b53-40ac-9472-fec7fcd7decb",
   "metadata": {},
   "source": [
    "## Experiment 3"
   ]
  },
  {
   "cell_type": "markdown",
   "id": "5ffbe07a-f29f-4dd4-98b7-2cdfb8ccc958",
   "metadata": {},
   "source": [
    "### Objective: To compare the results of SMOTE after train_test split versus the results of SMOTE before train_test split"
   ]
  },
  {
   "cell_type": "markdown",
   "id": "9f6c5f42-67aa-41a4-baa7-25fd9df609e7",
   "metadata": {},
   "source": [
    "### Resampling before train_test"
   ]
  },
  {
   "cell_type": "code",
   "execution_count": 209,
   "id": "4253427b-ceae-4190-84d1-22be0617594d",
   "metadata": {},
   "outputs": [],
   "source": [
    "df2=df.copy()"
   ]
  },
  {
   "cell_type": "code",
   "execution_count": 210,
   "id": "e101bdac-9b86-4fda-a21d-92f5b62b5975",
   "metadata": {},
   "outputs": [
    {
     "data": {
      "text/html": [
       "<div>\n",
       "<style scoped>\n",
       "    .dataframe tbody tr th:only-of-type {\n",
       "        vertical-align: middle;\n",
       "    }\n",
       "\n",
       "    .dataframe tbody tr th {\n",
       "        vertical-align: top;\n",
       "    }\n",
       "\n",
       "    .dataframe thead th {\n",
       "        text-align: right;\n",
       "    }\n",
       "</style>\n",
       "<table border=\"1\" class=\"dataframe\">\n",
       "  <thead>\n",
       "    <tr style=\"text-align: right;\">\n",
       "      <th></th>\n",
       "      <th>Gender</th>\n",
       "      <th>Age</th>\n",
       "      <th>Driving_License</th>\n",
       "      <th>Region_Code</th>\n",
       "      <th>Previously_Insured</th>\n",
       "      <th>Vehicle_Age</th>\n",
       "      <th>Vehicle_Damage</th>\n",
       "      <th>Annual_Premium</th>\n",
       "      <th>Policy_Sales_Channel</th>\n",
       "      <th>Vintage</th>\n",
       "      <th>Response</th>\n",
       "    </tr>\n",
       "  </thead>\n",
       "  <tbody>\n",
       "    <tr>\n",
       "      <th>0</th>\n",
       "      <td>Male</td>\n",
       "      <td>22</td>\n",
       "      <td>1</td>\n",
       "      <td>7.0</td>\n",
       "      <td>1</td>\n",
       "      <td>&lt; 1 Year</td>\n",
       "      <td>No</td>\n",
       "      <td>2630.0</td>\n",
       "      <td>152.0</td>\n",
       "      <td>16</td>\n",
       "      <td>0</td>\n",
       "    </tr>\n",
       "    <tr>\n",
       "      <th>1</th>\n",
       "      <td>Male</td>\n",
       "      <td>42</td>\n",
       "      <td>1</td>\n",
       "      <td>28.0</td>\n",
       "      <td>0</td>\n",
       "      <td>1-2 Year</td>\n",
       "      <td>Yes</td>\n",
       "      <td>43327.0</td>\n",
       "      <td>26.0</td>\n",
       "      <td>135</td>\n",
       "      <td>0</td>\n",
       "    </tr>\n",
       "    <tr>\n",
       "      <th>2</th>\n",
       "      <td>Female</td>\n",
       "      <td>66</td>\n",
       "      <td>1</td>\n",
       "      <td>33.0</td>\n",
       "      <td>0</td>\n",
       "      <td>1-2 Year</td>\n",
       "      <td>Yes</td>\n",
       "      <td>35841.0</td>\n",
       "      <td>124.0</td>\n",
       "      <td>253</td>\n",
       "      <td>0</td>\n",
       "    </tr>\n",
       "    <tr>\n",
       "      <th>3</th>\n",
       "      <td>Female</td>\n",
       "      <td>22</td>\n",
       "      <td>1</td>\n",
       "      <td>33.0</td>\n",
       "      <td>0</td>\n",
       "      <td>&lt; 1 Year</td>\n",
       "      <td>No</td>\n",
       "      <td>27645.0</td>\n",
       "      <td>152.0</td>\n",
       "      <td>69</td>\n",
       "      <td>0</td>\n",
       "    </tr>\n",
       "    <tr>\n",
       "      <th>4</th>\n",
       "      <td>Male</td>\n",
       "      <td>28</td>\n",
       "      <td>1</td>\n",
       "      <td>46.0</td>\n",
       "      <td>1</td>\n",
       "      <td>&lt; 1 Year</td>\n",
       "      <td>No</td>\n",
       "      <td>29023.0</td>\n",
       "      <td>152.0</td>\n",
       "      <td>211</td>\n",
       "      <td>0</td>\n",
       "    </tr>\n",
       "    <tr>\n",
       "      <th>...</th>\n",
       "      <td>...</td>\n",
       "      <td>...</td>\n",
       "      <td>...</td>\n",
       "      <td>...</td>\n",
       "      <td>...</td>\n",
       "      <td>...</td>\n",
       "      <td>...</td>\n",
       "      <td>...</td>\n",
       "      <td>...</td>\n",
       "      <td>...</td>\n",
       "      <td>...</td>\n",
       "    </tr>\n",
       "    <tr>\n",
       "      <th>24995</th>\n",
       "      <td>Male</td>\n",
       "      <td>25</td>\n",
       "      <td>1</td>\n",
       "      <td>15.0</td>\n",
       "      <td>1</td>\n",
       "      <td>&lt; 1 Year</td>\n",
       "      <td>No</td>\n",
       "      <td>30389.0</td>\n",
       "      <td>152.0</td>\n",
       "      <td>172</td>\n",
       "      <td>0</td>\n",
       "    </tr>\n",
       "    <tr>\n",
       "      <th>24996</th>\n",
       "      <td>Male</td>\n",
       "      <td>74</td>\n",
       "      <td>1</td>\n",
       "      <td>28.0</td>\n",
       "      <td>1</td>\n",
       "      <td>1-2 Year</td>\n",
       "      <td>No</td>\n",
       "      <td>48849.0</td>\n",
       "      <td>122.0</td>\n",
       "      <td>188</td>\n",
       "      <td>0</td>\n",
       "    </tr>\n",
       "    <tr>\n",
       "      <th>24997</th>\n",
       "      <td>Female</td>\n",
       "      <td>41</td>\n",
       "      <td>1</td>\n",
       "      <td>28.0</td>\n",
       "      <td>0</td>\n",
       "      <td>1-2 Year</td>\n",
       "      <td>Yes</td>\n",
       "      <td>38198.0</td>\n",
       "      <td>26.0</td>\n",
       "      <td>277</td>\n",
       "      <td>1</td>\n",
       "    </tr>\n",
       "    <tr>\n",
       "      <th>24998</th>\n",
       "      <td>Female</td>\n",
       "      <td>37</td>\n",
       "      <td>1</td>\n",
       "      <td>28.0</td>\n",
       "      <td>0</td>\n",
       "      <td>1-2 Year</td>\n",
       "      <td>Yes</td>\n",
       "      <td>38501.0</td>\n",
       "      <td>122.0</td>\n",
       "      <td>26</td>\n",
       "      <td>1</td>\n",
       "    </tr>\n",
       "    <tr>\n",
       "      <th>24999</th>\n",
       "      <td>Male</td>\n",
       "      <td>33</td>\n",
       "      <td>1</td>\n",
       "      <td>28.0</td>\n",
       "      <td>0</td>\n",
       "      <td>1-2 Year</td>\n",
       "      <td>Yes</td>\n",
       "      <td>26244.0</td>\n",
       "      <td>122.0</td>\n",
       "      <td>160</td>\n",
       "      <td>1</td>\n",
       "    </tr>\n",
       "  </tbody>\n",
       "</table>\n",
       "<p>25000 rows × 11 columns</p>\n",
       "</div>"
      ],
      "text/plain": [
       "       Gender  Age  Driving_License  Region_Code  Previously_Insured  \\\n",
       "0        Male   22                1          7.0                   1   \n",
       "1        Male   42                1         28.0                   0   \n",
       "2      Female   66                1         33.0                   0   \n",
       "3      Female   22                1         33.0                   0   \n",
       "4        Male   28                1         46.0                   1   \n",
       "...       ...  ...              ...          ...                 ...   \n",
       "24995    Male   25                1         15.0                   1   \n",
       "24996    Male   74                1         28.0                   1   \n",
       "24997  Female   41                1         28.0                   0   \n",
       "24998  Female   37                1         28.0                   0   \n",
       "24999    Male   33                1         28.0                   0   \n",
       "\n",
       "      Vehicle_Age Vehicle_Damage  Annual_Premium  Policy_Sales_Channel  \\\n",
       "0        < 1 Year             No          2630.0                 152.0   \n",
       "1        1-2 Year            Yes         43327.0                  26.0   \n",
       "2        1-2 Year            Yes         35841.0                 124.0   \n",
       "3        < 1 Year             No         27645.0                 152.0   \n",
       "4        < 1 Year             No         29023.0                 152.0   \n",
       "...           ...            ...             ...                   ...   \n",
       "24995    < 1 Year             No         30389.0                 152.0   \n",
       "24996    1-2 Year             No         48849.0                 122.0   \n",
       "24997    1-2 Year            Yes         38198.0                  26.0   \n",
       "24998    1-2 Year            Yes         38501.0                 122.0   \n",
       "24999    1-2 Year            Yes         26244.0                 122.0   \n",
       "\n",
       "       Vintage  Response  \n",
       "0           16         0  \n",
       "1          135         0  \n",
       "2          253         0  \n",
       "3           69         0  \n",
       "4          211         0  \n",
       "...        ...       ...  \n",
       "24995      172         0  \n",
       "24996      188         0  \n",
       "24997      277         1  \n",
       "24998       26         1  \n",
       "24999      160         1  \n",
       "\n",
       "[25000 rows x 11 columns]"
      ]
     },
     "execution_count": 210,
     "metadata": {},
     "output_type": "execute_result"
    }
   ],
   "source": [
    "df2"
   ]
  },
  {
   "cell_type": "code",
   "execution_count": 211,
   "id": "1fba1963-5187-4402-8c43-7e134aab181e",
   "metadata": {},
   "outputs": [],
   "source": [
    "X2=df2.drop(columns='Response',axis=1)\n",
    "y2=df2.Response"
   ]
  },
  {
   "cell_type": "code",
   "execution_count": 212,
   "id": "fb002393-d883-4721-b2a3-4d9a65d084ac",
   "metadata": {},
   "outputs": [],
   "source": [
    "X2_num=X2.select_dtypes(include='number')\n",
    "X2_cat=X2.select_dtypes(include='object')\n",
    "\n",
    "ss=MinMaxScaler()\n",
    "X2_num_scaled=ss.fit_transform(X2_num)\n",
    "X2_num_scaled=pd.DataFrame(X2_num_scaled,columns=X2_num.columns,index=X2_num.index)\n",
    "\n",
    "X2_cat_encoded=pd.get_dummies(X2_cat,drop_first=False,dtype=int)\n",
    "\n",
    "X2=pd.concat([X2_num_scaled,X2_cat_encoded],axis=1)"
   ]
  },
  {
   "cell_type": "code",
   "execution_count": 213,
   "id": "77517b01-752d-4002-a164-9469895bd397",
   "metadata": {},
   "outputs": [],
   "source": [
    "sm=SMOTE()"
   ]
  },
  {
   "cell_type": "code",
   "execution_count": 214,
   "id": "bf7d19d0-7d6f-4e97-a775-c562b3170470",
   "metadata": {},
   "outputs": [],
   "source": [
    "X2_sm,y2_sm=sm.fit_resample(X2,y2)"
   ]
  },
  {
   "cell_type": "code",
   "execution_count": 215,
   "id": "5184a3cc-f39a-42af-a180-ea6d256b7663",
   "metadata": {},
   "outputs": [
    {
     "name": "stdout",
     "output_type": "stream",
     "text": [
      "(25000, 14)\n",
      "(41828, 14)\n"
     ]
    }
   ],
   "source": [
    "print(X2.shape)\n",
    "print(X2_sm.shape)"
   ]
  },
  {
   "cell_type": "code",
   "execution_count": 216,
   "id": "afd3eb23-0f1d-4698-ad40-dfb535ab161c",
   "metadata": {},
   "outputs": [
    {
     "name": "stdout",
     "output_type": "stream",
     "text": [
      "(25000,)\n",
      "(41828,)\n"
     ]
    }
   ],
   "source": [
    "print(y2.shape)\n",
    "print(y2_sm.shape)"
   ]
  },
  {
   "cell_type": "code",
   "execution_count": 217,
   "id": "14cc9b37-bf93-44ea-a1d9-c8956b925d7d",
   "metadata": {},
   "outputs": [
    {
     "name": "stdout",
     "output_type": "stream",
     "text": [
      "(31371, 14)\n",
      "(10457, 14)\n",
      "(31371,)\n",
      "(10457,)\n"
     ]
    }
   ],
   "source": [
    "X2_train,X2_test,y2_train,y2_test=train_test_split(X2_sm,y2_sm,test_size=0.25,random_state=0)\n",
    "\n",
    "print(X2_train.shape)\n",
    "print(X2_test.shape)\n",
    "print(y2_train.shape)\n",
    "print(y2_test.shape)"
   ]
  },
  {
   "cell_type": "markdown",
   "id": "f1d9179b-bed1-48ed-a8e5-7a14e29ef372",
   "metadata": {},
   "source": [
    "### Random Forest Classifier"
   ]
  },
  {
   "cell_type": "code",
   "execution_count": 218,
   "id": "4d2d8eec-ef31-4cc2-bcf2-fc4162c23ca0",
   "metadata": {},
   "outputs": [],
   "source": [
    "from sklearn.ensemble import RandomForestClassifier"
   ]
  },
  {
   "cell_type": "code",
   "execution_count": 219,
   "id": "a18b44c1-8fb6-4718-a5a5-2035ae06ea7b",
   "metadata": {},
   "outputs": [],
   "source": [
    "forest_params = [{'max_depth': list(range(2, 10))}]"
   ]
  },
  {
   "cell_type": "code",
   "execution_count": 220,
   "id": "453925a6-74b3-4e80-9394-24a9fd3acc71",
   "metadata": {},
   "outputs": [],
   "source": [
    "rf=RandomForestClassifier()"
   ]
  },
  {
   "cell_type": "code",
   "execution_count": 221,
   "id": "0f2f47c2-a5fc-4ca8-a66e-837efbdf76c9",
   "metadata": {},
   "outputs": [],
   "source": [
    "clf=GridSearchCV(rf,forest_params,scoring='f1')"
   ]
  },
  {
   "cell_type": "code",
   "execution_count": 222,
   "id": "35875e1a-55fd-4ad2-958e-fe7d37530641",
   "metadata": {},
   "outputs": [
    {
     "data": {
      "text/plain": [
       "GridSearchCV(estimator=RandomForestClassifier(),\n",
       "             param_grid=[{'max_depth': [2, 3, 4, 5, 6, 7, 8, 9]}],\n",
       "             scoring='f1')"
      ]
     },
     "execution_count": 222,
     "metadata": {},
     "output_type": "execute_result"
    }
   ],
   "source": [
    "clf.fit(X2_train,y2_train)"
   ]
  },
  {
   "cell_type": "code",
   "execution_count": 223,
   "id": "0b725b17-db4a-4929-80a5-baa3424647a4",
   "metadata": {},
   "outputs": [
    {
     "name": "stdout",
     "output_type": "stream",
     "text": [
      "{'max_depth': 9}\n"
     ]
    }
   ],
   "source": [
    "print(clf.best_params_)"
   ]
  },
  {
   "cell_type": "code",
   "execution_count": 224,
   "id": "ab59a5a5-6c3e-4e3f-9c15-cb046e042cd4",
   "metadata": {},
   "outputs": [],
   "source": [
    "rfc=RandomForestClassifier(max_depth=9)"
   ]
  },
  {
   "cell_type": "code",
   "execution_count": 225,
   "id": "14257643-16f5-4249-8499-7cb4b5d1485e",
   "metadata": {},
   "outputs": [],
   "source": [
    "model_rfc=rfc.fit(X2_train,y2_train)"
   ]
  },
  {
   "cell_type": "code",
   "execution_count": 226,
   "id": "fda8f3e3-2994-4687-a72d-53ea48364bdf",
   "metadata": {},
   "outputs": [],
   "source": [
    "yhat_train=model_rfc.predict(X2_train)"
   ]
  },
  {
   "cell_type": "code",
   "execution_count": 227,
   "id": "5f178d32-3fa8-4734-a45e-c1c3d94ebc15",
   "metadata": {},
   "outputs": [],
   "source": [
    "from sklearn.metrics import classification_report, accuracy_score, precision_score, recall_score, f1_score"
   ]
  },
  {
   "cell_type": "code",
   "execution_count": 228,
   "id": "767fa85c-78d8-4c27-8d1a-6f61fe8dd89f",
   "metadata": {},
   "outputs": [
    {
     "name": "stdout",
     "output_type": "stream",
     "text": [
      "              precision    recall  f1-score   support\n",
      "\n",
      "           0       0.96      0.76      0.85     15701\n",
      "           1       0.80      0.97      0.88     15670\n",
      "\n",
      "    accuracy                           0.86     31371\n",
      "   macro avg       0.88      0.86      0.86     31371\n",
      "weighted avg       0.88      0.86      0.86     31371\n",
      "\n"
     ]
    }
   ],
   "source": [
    "print(classification_report(y2_train,yhat_train))"
   ]
  },
  {
   "cell_type": "markdown",
   "id": "bf54c895-1f36-4dc2-850d-6c0671c4b6da",
   "metadata": {},
   "source": [
    "### Classification report of test data"
   ]
  },
  {
   "cell_type": "code",
   "execution_count": 229,
   "id": "250a9864-e881-4604-94ff-1db6f4c5e881",
   "metadata": {},
   "outputs": [],
   "source": [
    "y2hat_test=model_rfc.predict(X2_test)"
   ]
  },
  {
   "cell_type": "code",
   "execution_count": 230,
   "id": "bfccc2b6-34ba-48fa-a794-2ee1bd6e526a",
   "metadata": {},
   "outputs": [
    {
     "name": "stdout",
     "output_type": "stream",
     "text": [
      "              precision    recall  f1-score   support\n",
      "\n",
      "           0       0.96      0.76      0.84      5213\n",
      "           1       0.80      0.96      0.87      5244\n",
      "\n",
      "    accuracy                           0.86     10457\n",
      "   macro avg       0.88      0.86      0.86     10457\n",
      "weighted avg       0.88      0.86      0.86     10457\n",
      "\n"
     ]
    }
   ],
   "source": [
    "print(classification_report(y2_test,y2hat_test))"
   ]
  },
  {
   "cell_type": "markdown",
   "id": "3e719b30-a8cd-44a5-bfe3-6680ec2ee896",
   "metadata": {},
   "source": [
    "### Logistic Regression"
   ]
  },
  {
   "cell_type": "code",
   "execution_count": 231,
   "id": "8024e836-5380-47b5-9ba0-271d29254268",
   "metadata": {},
   "outputs": [],
   "source": [
    "lr2=LogisticRegression()"
   ]
  },
  {
   "cell_type": "code",
   "execution_count": 232,
   "id": "806f4b31-7a37-4f47-aac9-071515510da7",
   "metadata": {},
   "outputs": [],
   "source": [
    "model2_lr=lr2.fit(X2_train,y2_train)"
   ]
  },
  {
   "cell_type": "code",
   "execution_count": 233,
   "id": "b7e1c789-2e58-4955-98cd-d0e2fd0c6c48",
   "metadata": {},
   "outputs": [],
   "source": [
    "y2hat_train_lr=model2_lr.predict(X2_train)"
   ]
  },
  {
   "cell_type": "code",
   "execution_count": 234,
   "id": "e29d8ce0-79e1-471b-ab71-16f1e53c210f",
   "metadata": {},
   "outputs": [
    {
     "name": "stdout",
     "output_type": "stream",
     "text": [
      "              precision    recall  f1-score   support\n",
      "\n",
      "           0       0.94      0.66      0.78     15701\n",
      "           1       0.74      0.96      0.83     15670\n",
      "\n",
      "    accuracy                           0.81     31371\n",
      "   macro avg       0.84      0.81      0.80     31371\n",
      "weighted avg       0.84      0.81      0.80     31371\n",
      "\n"
     ]
    }
   ],
   "source": [
    "print(classification_report(y2_train,y2hat_train_lr))"
   ]
  },
  {
   "cell_type": "code",
   "execution_count": 235,
   "id": "9ee77f97-3c6c-472c-892a-8d4c9c79d39f",
   "metadata": {},
   "outputs": [],
   "source": [
    "y2hat_test_lr=model2_lr.predict(X2_test)"
   ]
  },
  {
   "cell_type": "code",
   "execution_count": 236,
   "id": "9eadee38-98a8-4b21-81a8-1997169ec1b7",
   "metadata": {},
   "outputs": [
    {
     "name": "stdout",
     "output_type": "stream",
     "text": [
      "              precision    recall  f1-score   support\n",
      "\n",
      "           0       0.94      0.67      0.78      5213\n",
      "           1       0.74      0.96      0.84      5244\n",
      "\n",
      "    accuracy                           0.81     10457\n",
      "   macro avg       0.84      0.81      0.81     10457\n",
      "weighted avg       0.84      0.81      0.81     10457\n",
      "\n"
     ]
    }
   ],
   "source": [
    "print(classification_report(y2_test,y2hat_test_lr))"
   ]
  },
  {
   "cell_type": "code",
   "execution_count": null,
   "id": "e1fa38e0-4539-4b94-a1b1-dbfd0c7e1137",
   "metadata": {},
   "outputs": [],
   "source": []
  }
 ],
 "metadata": {
  "kernelspec": {
   "display_name": "Python 3 (ipykernel)",
   "language": "python",
   "name": "python3"
  },
  "language_info": {
   "codemirror_mode": {
    "name": "ipython",
    "version": 3
   },
   "file_extension": ".py",
   "mimetype": "text/x-python",
   "name": "python",
   "nbconvert_exporter": "python",
   "pygments_lexer": "ipython3",
   "version": "3.9.7"
  }
 },
 "nbformat": 4,
 "nbformat_minor": 5
}
